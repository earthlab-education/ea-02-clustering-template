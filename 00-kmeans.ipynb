{
 "cells": [
  {
   "cell_type": "markdown",
   "id": "df408b01",
   "metadata": {
    "tags": [
     "remove_cell"
    ]
   },
   "source": [
    "<div><img style=\"float: left; padding-right: 3em;\" src=\"https://avatars.githubusercontent.com/u/19476722\" width=\"150\" /><div/>\n",
    "\n",
    "# Earth Data Science Coding Challenge!\n",
    "Before we get started, make sure to read or review the guidelines below. These will help make sure that your code is **readable** and **reproducible**. "
   ]
  },
  {
   "cell_type": "markdown",
   "id": "1945f92f",
   "metadata": {
    "tags": [
     "remove_cell"
    ]
   },
   "source": [
    "## Don't get **caught** by these Jupyter notebook gotchas\n",
    "\n",
    "<img src=\"https://miro.medium.com/v2/resize:fit:4800/format:webp/1*o0HleR7BSe8W-pTnmucqHA.jpeg\" width=300 style=\"padding: 1em; border-style: solid; border-color: grey;\" />\n",
    "\n",
    "  > *Image source: https://alaskausfws.medium.com/whats-big-and-brown-and-loves-salmon-e1803579ee36*\n",
    "\n",
    "These are the most common issues that will keep you from getting started and delay your code review:\n",
    "\n",
    "1. When you try to run some code on GitHub Codespaces, you may be prompted to select a **kernel**.\n",
    "   * The **kernel** refers to the version of Python you are using\n",
    "   * You should use the **base** kernel, which should be the default option. \n",
    "   * You can also use the `Select Kernel` menu in the upper right to select the **base** kernel\n",
    "2. Before you commit your work, make sure it runs **reproducibly** by clicking:\n",
    "   1. `Restart` (this button won't appear until you've run some code), then\n",
    "   2. `Run All`\n",
    "\n",
    "## Check your code to make sure it's clean and easy to read\n",
    "\n",
    "<img src=\"https://encrypted-tbn0.gstatic.com/images?q=tbn:ANd9GcSO1w9WrbwbuMLN14IezH-iq2HEGwO3JDvmo5Y_hQIy7k-Xo2gZH-mP2GUIG6RFWL04X1k&usqp=CAU\" height=200 />\n",
    "\n",
    "* Format all cells prior to submitting (right click on your code).\n",
    "* Use expressive names for variables so you or the reader knows what they are. \n",
    "* Use comments to explain your code -- e.g. \n",
    "  ```python\n",
    "  # This is a comment, it starts with a hash sign\n",
    "  ```\n",
    "\n",
    "## Label and describe your plots\n",
    "\n",
    "![Source: https://xkcd.com/833](https://imgs.xkcd.com/comics/convincing.png)\n",
    "\n",
    "Make sure each plot has:\n",
    "  * A title that explains where and when the data are from\n",
    "  * x- and y- axis labels with **units** where appropriate\n",
    "  * A legend where appropriate\n",
    "\n",
    "\n",
    "## Icons: how to use this notebook\n",
    "We use the following icons to let you know when you need to change something to complete the challenge:\n",
    "  * &#128187; means you need to write or edit some code.\n",
    "  \n",
    "  * &#128214;  indicates recommended reading\n",
    "  \n",
    "  * &#9998; marks written responses to questions\n",
    "  \n",
    "  * &#127798; is an optional extra challenge\n",
    "  "
   ]
  },
  {
   "cell_type": "markdown",
   "id": "11399135",
   "metadata": {},
   "source": [
    "---"
   ]
  },
  {
   "cell_type": "markdown",
   "id": "8b9824e5-5431-4aba-be4b-fc82fd53d889",
   "metadata": {
    "deletable": false,
    "editable": false,
    "nbgrader": {
     "cell_type": "markdown",
     "checksum": "efa0843497fdddd363581ffe3e928219",
     "grade": false,
     "grade_id": "title",
     "locked": true,
     "schema_version": 3,
     "solution": false,
     "task": false
    },
    "tags": []
   },
   "source": [
    "# Land cover classification at the Mississppi Delta\n",
    "\n",
    "In this notebook, you will use a k-means **unsupervised** clustering algorithm to group pixels by similar spectral signatures. k-means is an **exploratory** method for finding patterns in data. Because it is unsupervised, you don't need any training data for the model. You also can't tell how well it \"performs\" because the clusters will not correspond to any particular land cover class. However, we expect at least some of the clusters to be identifiable.\n",
    "\n",
    "You will use the [harmonized Sentinal/Landsat multispectral dataset](https://lpdaac.usgs.gov/documents/1698/HLS_User_Guide_V2.pdf). You can access the data with an [Earthdata account](https://www.earthdata.nasa.gov/learn/get-started) by installing the [`earthaccess` library from NSIDC](https://github.com/nsidc/earthaccess):\n",
    "\n",
    "```bash\n",
    "conda install -c conda-forge -y earthaccess\n",
    "```"
   ]
  },
  {
   "cell_type": "markdown",
   "id": "c191592c-c113-47f7-8c22-8cafc51a7ce0",
   "metadata": {
    "deletable": false,
    "editable": false,
    "nbgrader": {
     "cell_type": "markdown",
     "checksum": "aa89f8dcb8bff3cbe8ad459ace447127",
     "grade": false,
     "grade_id": "step-1",
     "locked": true,
     "schema_version": 3,
     "solution": false,
     "task": false
    },
    "tags": []
   },
   "source": [
    "## STEP 1: SET UP"
   ]
  },
  {
   "cell_type": "markdown",
   "id": "2942e3c3-21e0-49a6-b6b0-ce523bbe4da9",
   "metadata": {
    "deletable": false,
    "editable": false,
    "nbgrader": {
     "cell_type": "markdown",
     "checksum": "90cc8046b2f87c8770c130f413892457",
     "grade": false,
     "grade_id": "import-task",
     "locked": true,
     "points": 5,
     "schema_version": 3,
     "solution": false,
     "task": true
    },
    "tags": []
   },
   "source": [
    "YOUR TASK:\n",
    "  1. Import all libraries you will need for this analysis\n",
    "  2. Configure GDAL parameters to help avoid connection errors:\n",
    "     ```python\n",
    "     os.environ[\"GDAL_HTTP_MAX_RETRY\"] = \"5\"\n",
    "     os.environ[\"GDAL_HTTP_RETRY_DELAY\"] = \"1\"\n",
    "     ```"
   ]
  },
  {
   "cell_type": "code",
   "execution_count": null,
   "id": "7d9b51ab-4543-48f4-a632-321ebc1cf14d",
   "metadata": {
    "deletable": false,
    "nbgrader": {
     "cell_type": "code",
     "checksum": "be894650820044a2987f2d17b918a09f",
     "grade": false,
     "grade_id": "import-ans",
     "locked": false,
     "schema_version": 3,
     "solution": true,
     "task": false
    },
    "tags": []
   },
   "outputs": [],
   "source": [
    "# YOUR CODE HERE\n",
    "raise NotImplementedError()"
   ]
  },
  {
   "cell_type": "markdown",
   "id": "615a188c-ff30-4d0e-901d-9a75ea57bb1d",
   "metadata": {
    "deletable": false,
    "editable": false,
    "nbgrader": {
     "cell_type": "markdown",
     "checksum": "79b2ae5ece9a7a9e607ec3106c82a36c",
     "grade": false,
     "grade_id": "decorator",
     "locked": true,
     "schema_version": 3,
     "solution": false,
     "task": false
    },
    "tags": []
   },
   "source": [
    "Below you can find code for a caching **decorator** which you can use in your code. To use the decorator:\n",
    "\n",
    "```python\n",
    "@cached(key, override)\n",
    "def do_something(*args, **kwargs):\n",
    "    ...\n",
    "    return item_to_cache\n",
    "```\n",
    "\n",
    "This decorator will **pickle** the results of running the `do_something()` function, and only run the code if the results don't already exist. To override the caching, for example temporarily after making changes to your code, set `override=True`."
   ]
  },
  {
   "cell_type": "code",
   "execution_count": null,
   "id": "d18b6648-c4a9-4e19-9528-bcadbfdb7225",
   "metadata": {
    "tags": []
   },
   "outputs": [],
   "source": [
    "def cached(key, override=False):\n",
    "    \"\"\"\"\"\"\n",
    "    def compute_and_cache_decorator(compute_function):\n",
    "        \"\"\"\"\"\"\n",
    "        def compute_and_cache(*args, **kwargs):\n",
    "            \"\"\"Perform a computation and cache, or load cached result\"\"\"\n",
    "            filename = os.path.join(et.io.HOME, et.io.DATA_NAME, 'jars', f'{key}.pickle')\n",
    "            \n",
    "            # Check if the cache exists already or override caching\n",
    "            if not os.path.exists(filename) or override:\n",
    "                # Make jars directory if needed\n",
    "                os.makedirs(os.path.dirname(filename), exist_ok=True)\n",
    "                \n",
    "                # Run the compute function as the user did\n",
    "                result = compute_function(*args, **kwargs)\n",
    "                \n",
    "                # Pickle the object\n",
    "                with open(filename, 'wb') as file:\n",
    "                    pickle.dump(result, file)\n",
    "            else:\n",
    "                # Unpickle the object\n",
    "                with open(filename, 'rb') as file:\n",
    "                    result = pickle.load(file)\n",
    "                    \n",
    "            return result\n",
    "        \n",
    "        return compute_and_cache\n",
    "    \n",
    "    return compute_and_cache_decorator"
   ]
  },
  {
   "cell_type": "markdown",
   "id": "1c11ffbf-2810-4c52-b1c8-64c2ae82894d",
   "metadata": {
    "deletable": false,
    "editable": false,
    "nbgrader": {
     "cell_type": "markdown",
     "checksum": "b69736a1ec667704f7be8771e4544dbe",
     "grade": false,
     "grade_id": "step-2",
     "locked": true,
     "schema_version": 3,
     "solution": false,
     "task": false
    },
    "tags": []
   },
   "source": [
    "## STEP 2: STUDY SITE"
   ]
  },
  {
   "cell_type": "markdown",
   "id": "6ad1edf2-305e-46e6-9c41-b5f1dc685e27",
   "metadata": {
    "deletable": false,
    "editable": false,
    "nbgrader": {
     "cell_type": "markdown",
     "checksum": "404ea78030de8c5f97c9470aa039fc0c",
     "grade": false,
     "grade_id": "boundary-task",
     "locked": true,
     "points": 10,
     "schema_version": 3,
     "solution": false,
     "task": true
    },
    "tags": []
   },
   "source": [
    "For this analysis, you will use a watershed from the [Water Boundary Dataset](https://www.usgs.gov/national-hydrography/access-national-hydrography-products), HU12 watersheds (WBDHU12.shp).\n",
    "\n",
    "YOUR TASK:\n",
    "  1. Download the Water Boundary Dataset for region 8 (Mississippi)\n",
    "  2. Select watershed 080902030506\n",
    "  3. Generate a site map of the watershed"
   ]
  },
  {
   "cell_type": "code",
   "execution_count": null,
   "id": "75b94941-aae2-4f41-a214-cb4834b01054",
   "metadata": {
    "deletable": false,
    "nbgrader": {
     "cell_type": "code",
     "checksum": "08d21abe9a66d2ff3f1f8d5699caf63e",
     "grade": false,
     "grade_id": "boundary-ans",
     "locked": false,
     "schema_version": 3,
     "solution": true,
     "task": false
    },
    "tags": []
   },
   "outputs": [],
   "source": [
    "# YOUR CODE HERE\n",
    "raise NotImplementedError()"
   ]
  },
  {
   "cell_type": "markdown",
   "id": "eefcc5b1-021c-4000-a521-dbb1f5839eda",
   "metadata": {
    "deletable": false,
    "editable": false,
    "nbgrader": {
     "cell_type": "markdown",
     "checksum": "80bd4f1c52d80388ebe508a190ccebed",
     "grade": false,
     "grade_id": "site-description-task",
     "locked": true,
     "points": 5,
     "schema_version": 3,
     "solution": false,
     "task": true
    },
    "tags": []
   },
   "source": [
    "I chose this watershed because it covers parts of New Orleans an is near the Mississippi Delta. Deltas are boundary areas between the land and the ocean, and tend to contain a rich variety of different land cover and land use types.\n",
    "\n",
    "In the cell below, write a 2-3 sentence **site description** of this area that helps to put your analysis in context."
   ]
  },
  {
   "cell_type": "markdown",
   "id": "3ae3ed38-b137-4e60-919f-ad4832d62754",
   "metadata": {
    "tags": []
   },
   "source": [
    "**YOUR SITE DESCRIPTION HERE**\n",
    "\n",
    "![](https://media.baamboozle.com/uploads/images/510741/1651543763_75056_gif-url.gif)"
   ]
  },
  {
   "cell_type": "markdown",
   "id": "e68188e4-bc85-4e91-a4d2-faf53de0caf1",
   "metadata": {
    "deletable": false,
    "editable": false,
    "nbgrader": {
     "cell_type": "markdown",
     "checksum": "4a3b910c6fd3bb73adb9f8b5a37d73bf",
     "grade": false,
     "grade_id": "step-3",
     "locked": true,
     "schema_version": 3,
     "solution": false,
     "task": false
    },
    "tags": []
   },
   "source": [
    "## STEP 3: MULTISPECTRAL DATA"
   ]
  },
  {
   "cell_type": "markdown",
   "id": "bef89fc1-86b7-4983-86b8-03aa2f974f37",
   "metadata": {
    "deletable": false,
    "editable": false,
    "nbgrader": {
     "cell_type": "markdown",
     "checksum": "cc063dfa891a807ae9e36e03225c1757",
     "grade": false,
     "grade_id": "search-task",
     "locked": true,
     "points": 5,
     "schema_version": 3,
     "solution": false,
     "task": true
    },
    "tags": []
   },
   "source": [
    "### Search for data\n",
    "\n",
    "**YOUR TASK:**\n",
    "  1. Log in to the `earthaccess` service using your Earthdata credentials:\n",
    "     ```python\n",
    "     earthaccess.login(persist=True)\n",
    "     ```\n",
    "  2. Modify the following sample code to search for granules of the HLSL30 product overlapping the watershed boundary from May to October 2023 (there should be 76 granules):\n",
    "     ```python\n",
    "     results = earthaccess.search_data(\n",
    "         short_name=\"...\",\n",
    "         cloud_hosted=True,\n",
    "         bounding_box=tuple(gdf.total_bounds),\n",
    "         temporal=(\"...\", \"...\"),\n",
    "     )\n",
    "     ```"
   ]
  },
  {
   "cell_type": "code",
   "execution_count": null,
   "id": "e2a68c08-5571-4dbd-b18e-4d64d209d512",
   "metadata": {
    "deletable": false,
    "nbgrader": {
     "cell_type": "code",
     "checksum": "f44e0625c261597c1454aaefbce06406",
     "grade": false,
     "grade_id": "search-ans",
     "locked": false,
     "schema_version": 3,
     "solution": true,
     "task": false
    },
    "tags": []
   },
   "outputs": [],
   "source": [
    "# YOUR CODE HERE\n",
    "raise NotImplementedError()"
   ]
  },
  {
   "cell_type": "markdown",
   "id": "4bd1054d-3fe9-4e50-8e28-9590617af7c7",
   "metadata": {
    "deletable": false,
    "editable": false,
    "nbgrader": {
     "cell_type": "markdown",
     "checksum": "f562d168d1f9e35e1eac93aa5cf6c055",
     "grade": false,
     "grade_id": "granule-info-task",
     "locked": true,
     "points": 10,
     "schema_version": 3,
     "solution": false,
     "task": true
    },
    "tags": []
   },
   "source": [
    "### Compile information about each granule\n",
    "\n",
    "I recommend building a GeoDataFrame, as this will allow you to plot the granules you are downloading and make sure they line up with your shapefile. You could also use a DataFrame, dictionary, or a custom object to store this information.\n",
    "\n",
    "**YOUR TASK -- Write a function that:**\n",
    "  1. For each search result:\n",
    "      1. Get the following information (HINT: look at the ['umm'] values for each search result):\n",
    "          - granule id (UR)\n",
    "          - datetime\n",
    "          - geometry (HINT: check out the shapely.geometry.Polygon class to convert points to a Polygon)\n",
    "      2. Open the granule files. I recomment opening one granule at a time, e.g. with (`earthaccess.open([result]`).\n",
    "      3. For each file (band), get the following information:\n",
    "          - file handler returned from `earthaccess.open()`\n",
    "          - tile id\n",
    "          - band number\n",
    "  2. Compile all the information you collected into a GeoDataFrame"
   ]
  },
  {
   "cell_type": "code",
   "execution_count": null,
   "id": "968cd765-6c55-44ba-beaa-5f2d43192226",
   "metadata": {
    "deletable": false,
    "nbgrader": {
     "cell_type": "code",
     "checksum": "cac54d8cb150546f10cde4e55590fd2b",
     "grade": false,
     "grade_id": "cell-793e5893137bcce8",
     "locked": false,
     "schema_version": 3,
     "solution": true,
     "task": false
    },
    "tags": []
   },
   "outputs": [],
   "source": [
    "# YOUR CODE HERE\n",
    "raise NotImplementedError()"
   ]
  },
  {
   "cell_type": "markdown",
   "id": "f7226499-fe17-42b8-ae62-52e6b0e8054f",
   "metadata": {
    "deletable": false,
    "editable": false,
    "nbgrader": {
     "cell_type": "markdown",
     "checksum": "bbc9e325c940d660030acb67ebfb5fc0",
     "grade": false,
     "grade_id": "crop-task",
     "locked": true,
     "points": 20,
     "schema_version": 3,
     "solution": false,
     "task": true
    },
    "tags": []
   },
   "source": [
    "### Open, crop, and mask data\n",
    "\n",
    "This will be the most resource-intensive step. I recommend caching your results using the `cached` decorator or by writing your own caching code. I also recommend testing this step with one or two dates before running the full computation.\n",
    "\n",
    "This code should include at least one **function** including a numpy-style docstring. A good place to start would be a function for opening a single masked raster, applying the appropriate scale parameter, and cropping.\n",
    "\n",
    "**YOUR TASK:**\n",
    "1. For each granule:\n",
    "    1. Open the Fmask band, crop, and compute a quality mask for the granule. You can use the following code as a starting point, making sure that `mask_bits` contains the quality bits you want to consider:\n",
    "         ```python\n",
    "         # Expand into a new dimension of binary bits\n",
    "         bits = np.unpackbits(da.astype(np.uint8)).reshape(da.shape + (-1,))\n",
    "\n",
    "         # Select the required bits and check if any are flagged\n",
    "         mask = np.prod(bits[..., mask_bits]==0, axis=-1)\n",
    "         ```\n",
    "\n",
    "    2. For each band that starts with 'B':\n",
    "        1. Open the band, crop, and apply the scale factor\n",
    "        2. Name the DataArray after the band using the `.name` attribute\n",
    "        3. Apply the cloud mask using the `.where()` method\n",
    "        4. Store the DataArray in your data structure (e.g. adding a GeoDataFrame column with the DataArray in it. Note that you will need to remove the rows for unused bands)"
   ]
  },
  {
   "cell_type": "code",
   "execution_count": null,
   "id": "d66ce2c5-d5c5-4874-86c9-8d54e2fe57f9",
   "metadata": {
    "deletable": false,
    "nbgrader": {
     "cell_type": "code",
     "checksum": "f677c3f58bae428ac4edba2fcd48b63a",
     "grade": false,
     "grade_id": "crop-ans",
     "locked": false,
     "schema_version": 3,
     "solution": true,
     "task": false
    },
    "tags": []
   },
   "outputs": [],
   "source": [
    "# YOUR CODE HERE\n",
    "raise NotImplementedError()"
   ]
  },
  {
   "cell_type": "markdown",
   "id": "2c7bc727-1125-47f3-918e-70d8c0d94a0b",
   "metadata": {
    "deletable": false,
    "editable": false,
    "nbgrader": {
     "cell_type": "markdown",
     "checksum": "6037d3a51885f56c5c290437492083d3",
     "grade": false,
     "grade_id": "merge-task",
     "locked": true,
     "points": 15,
     "schema_version": 3,
     "solution": false,
     "task": true
    },
    "tags": []
   },
   "source": [
    "### Merge and Composite Data\n",
    "\n",
    "You will notice for this watershed that:\n",
    "1. The raster data for each date are spread across 4 granules\n",
    "2. Any given image is incomplete because of clouds\n",
    "\n",
    "**YOUR TASK:**\n",
    "1. For each band:\n",
    "    1. For each date:\n",
    "        1. Merge all 4 granules\n",
    "        2. Mask any negative values created by interpolating from the nodata value of -9999 (`rioxarray` should account for this, but doesn't appear to when merging. If you leave these values in they will create problems down the line)\n",
    "    2. Concatenate the merged DataArrays along a new date dimension\n",
    "    3. Take the mean in the date dimension to create a composite image that fills cloud gaps\n",
    "    4. Add the band as a dimension, and give the DataArray a name\n",
    "2. Concatenate along the band dimension"
   ]
  },
  {
   "cell_type": "code",
   "execution_count": null,
   "id": "c255087c-c2f5-4786-9774-63e5414d07b1",
   "metadata": {
    "deletable": false,
    "nbgrader": {
     "cell_type": "code",
     "checksum": "b2d3a2d7cf1c88a7339b2fcb1b35e9ea",
     "grade": false,
     "grade_id": "merge-ans",
     "locked": false,
     "schema_version": 3,
     "solution": true,
     "task": false
    },
    "tags": []
   },
   "outputs": [],
   "source": [
    "# YOUR CODE HERE\n",
    "raise NotImplementedError()"
   ]
  },
  {
   "cell_type": "markdown",
   "id": "44b9abd6-58ca-4d41-a2fa-6e25762a05e5",
   "metadata": {
    "deletable": false,
    "editable": false,
    "nbgrader": {
     "cell_type": "markdown",
     "checksum": "4f89429c06846f6c92dc843cc2a662a7",
     "grade": false,
     "grade_id": "step-4",
     "locked": true,
     "schema_version": 3,
     "solution": false,
     "task": false
    },
    "tags": []
   },
   "source": [
    "## STEP 4: K-MEANS"
   ]
  },
  {
   "cell_type": "markdown",
   "id": "84f0f7bb-7490-4a75-9952-b227c6b6966b",
   "metadata": {
    "deletable": false,
    "editable": false,
    "nbgrader": {
     "cell_type": "markdown",
     "checksum": "a3b7244701157ec56c019b2564b11e4a",
     "grade": false,
     "grade_id": "kmeans-task",
     "locked": true,
     "points": 10,
     "schema_version": 3,
     "solution": false,
     "task": true
    },
    "tags": []
   },
   "source": [
    "Cluster your data by spectral signature using the k-means algorithm. \n",
    "\n",
    "**YOUR TASK:**\n",
    "1. Convert your DataArray into a **tidy** DataFrame of reflectance values (hint: check out the `.unstack()` method)\n",
    "2. Filter out all rows with no data (all 0s or any N/A values)\n",
    "3. Fit a k-means model. You can experiment with the number of groups to find what works best."
   ]
  },
  {
   "cell_type": "code",
   "execution_count": null,
   "id": "31193044-f21d-4571-b6e5-ef1bb41a5a70",
   "metadata": {
    "deletable": false,
    "nbgrader": {
     "cell_type": "code",
     "checksum": "e385c8ff848a8a5cfa52451d98ff012e",
     "grade": false,
     "grade_id": "kmeans-ans",
     "locked": false,
     "schema_version": 3,
     "solution": true,
     "task": false
    },
    "tags": []
   },
   "outputs": [],
   "source": [
    "# YOUR CODE HERE\n",
    "raise NotImplementedError()"
   ]
  },
  {
   "cell_type": "markdown",
   "id": "afc64251-1675-40af-b38b-a2b4e96cfd09",
   "metadata": {
    "deletable": false,
    "editable": false,
    "nbgrader": {
     "cell_type": "markdown",
     "checksum": "5a53678eee78f3d5b42e94d767c6a053",
     "grade": false,
     "grade_id": "step-5",
     "locked": true,
     "schema_version": 3,
     "solution": false,
     "task": false
    },
    "tags": []
   },
   "source": [
    "## STEP 5: PLOT"
   ]
  },
  {
   "cell_type": "markdown",
   "id": "f9b9d3a9-194e-4a12-b9eb-22663c471ac2",
   "metadata": {
    "deletable": false,
    "editable": false,
    "nbgrader": {
     "cell_type": "markdown",
     "checksum": "766bd022504fd33d7ea9d3a772c19b61",
     "grade": false,
     "grade_id": "plot-task",
     "locked": true,
     "points": 10,
     "schema_version": 3,
     "solution": false,
     "task": true
    },
    "tags": []
   },
   "source": [
    "**YOUR TASK:**\n",
    "Create a plot that shows the k-means clusters next to an RGB image of the area. You may need to brighted your RGB image by multiplying it by 10."
   ]
  },
  {
   "cell_type": "code",
   "execution_count": null,
   "id": "c9094205-29ec-46dd-bf76-aec63703363b",
   "metadata": {
    "deletable": false,
    "nbgrader": {
     "cell_type": "code",
     "checksum": "023e3db93e020761e7fbb7c94b914f32",
     "grade": false,
     "grade_id": "plot-ans",
     "locked": false,
     "schema_version": 3,
     "solution": true,
     "task": false
    },
    "tags": []
   },
   "outputs": [],
   "source": [
    "# YOUR CODE HERE\n",
    "raise NotImplementedError()"
   ]
  },
  {
   "cell_type": "markdown",
   "id": "f1be88d1-3363-4a7c-a811-bac5e2224f5b",
   "metadata": {
    "deletable": false,
    "editable": false,
    "nbgrader": {
     "cell_type": "markdown",
     "checksum": "1e6526f7b2aea0ad294291ea2ca8aaf1",
     "grade": false,
     "grade_id": "headline-task",
     "locked": true,
     "points": 10,
     "schema_version": 3,
     "solution": false,
     "task": true
    },
    "tags": []
   },
   "source": [
    "Don't forget to interpret your plot!"
   ]
  },
  {
   "cell_type": "markdown",
   "id": "7016f6cf-1417-4d73-8e43-c507cdc4ca0a",
   "metadata": {
    "tags": []
   },
   "source": [
    "**YOUR PLOT HEADLINE AND DESCRIPTION HERE**\n",
    "\n",
    "![](https://media.baamboozle.com/uploads/images/510741/1651543763_75056_gif-url.gif)"
   ]
  }
 ],
 "metadata": {
  "kernelspec": {
   "display_name": "Python 3 (ipykernel)",
   "language": "python",
   "name": "python3"
  },
  "language_info": {
   "codemirror_mode": {
    "name": "ipython",
    "version": 3
   },
   "file_extension": ".py",
   "mimetype": "text/x-python",
   "name": "python",
   "nbconvert_exporter": "python",
   "pygments_lexer": "ipython3",
   "version": "3.11.7"
  }
 },
 "nbformat": 4,
 "nbformat_minor": 5
}
